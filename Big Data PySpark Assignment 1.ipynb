{
  "nbformat": 4,
  "nbformat_minor": 0,
  "metadata": {
    "colab": {
      "name": "PySpark Assignment 1.ipynb",
      "provenance": []
    },
    "kernelspec": {
      "name": "python3",
      "display_name": "Python 3"
    }
  },
  "cells": [
    {
      "cell_type": "code",
      "metadata": {
        "id": "jS2Fe4WaZkNq",
        "colab_type": "code",
        "colab": {
          "base_uri": "https://localhost:8080/",
          "height": 258
        },
        "outputId": "21dc1500-84d6-438c-8467-1fe9a86cf141"
      },
      "source": [
        "!pip install pyspark"
      ],
      "execution_count": 1,
      "outputs": [
        {
          "output_type": "stream",
          "text": [
            "Collecting pyspark\n",
            "\u001b[?25l  Downloading https://files.pythonhosted.org/packages/8e/b0/bf9020b56492281b9c9d8aae8f44ff51e1bc91b3ef5a884385cb4e389a40/pyspark-3.0.0.tar.gz (204.7MB)\n",
            "\u001b[K     |████████████████████████████████| 204.7MB 64kB/s \n",
            "\u001b[?25hCollecting py4j==0.10.9\n",
            "\u001b[?25l  Downloading https://files.pythonhosted.org/packages/9e/b6/6a4fb90cd235dc8e265a6a2067f2a2c99f0d91787f06aca4bcf7c23f3f80/py4j-0.10.9-py2.py3-none-any.whl (198kB)\n",
            "\u001b[K     |████████████████████████████████| 204kB 38.6MB/s \n",
            "\u001b[?25hBuilding wheels for collected packages: pyspark\n",
            "  Building wheel for pyspark (setup.py) ... \u001b[?25l\u001b[?25hdone\n",
            "  Created wheel for pyspark: filename=pyspark-3.0.0-py2.py3-none-any.whl size=205044182 sha256=35283ca4d701a229103f807fdbdf7801af4d0b0f12955c7d01ebe7cab5241d42\n",
            "  Stored in directory: /root/.cache/pip/wheels/57/27/4d/ddacf7143f8d5b76c45c61ee2e43d9f8492fc5a8e78ebd7d37\n",
            "Successfully built pyspark\n",
            "Installing collected packages: py4j, pyspark\n",
            "Successfully installed py4j-0.10.9 pyspark-3.0.0\n"
          ],
          "name": "stdout"
        }
      ]
    },
    {
      "cell_type": "code",
      "metadata": {
        "id": "MQkUKcFHZvM5",
        "colab_type": "code",
        "colab": {}
      },
      "source": [
        "Date, Location , Total Sales\n",
        "\n"
      ],
      "execution_count": null,
      "outputs": []
    },
    {
      "cell_type": "code",
      "metadata": {
        "id": "0nGHKyxliiFO",
        "colab_type": "code",
        "colab": {
          "base_uri": "https://localhost:8080/",
          "height": 34
        },
        "outputId": "e45ba5ad-e682-493d-953d-d4d15f63788c"
      },
      "source": [
        "import datetime\n",
        "import random\n",
        "\n",
        "def generate_random_records():\n",
        "  start_date = datetime.date(2020, 1, 1)\n",
        "  end_date = datetime.date(2020, 6, 1)\n",
        "  time_between_dates = end_date - start_date\n",
        "  days_between_dates = time_between_dates.days\n",
        "  random_number_of_days = random.randrange(days_between_dates)\n",
        "  random_date = start_date + datetime.timedelta(days=random_number_of_days)\n",
        "  location = ['Mumbai','Delhi','Kolkata','Banglore']\n",
        "  random_location = random.choice(location)\n",
        "  random_integer = random.randint(2000,10000)\n",
        "  return [random_date,random_location,random_integer]\n",
        "print(generate_random_records())"
      ],
      "execution_count": 2,
      "outputs": [
        {
          "output_type": "stream",
          "text": [
            "[datetime.date(2020, 2, 20), 'Mumbai', 5314]\n"
          ],
          "name": "stdout"
        }
      ]
    },
    {
      "cell_type": "code",
      "metadata": {
        "id": "w_05bxDUj5z4",
        "colab_type": "code",
        "colab": {}
      },
      "source": [
        "import pandas as pd\n",
        "data = pd.DataFrame(columns = ('date','location','sales'))"
      ],
      "execution_count": 18,
      "outputs": []
    },
    {
      "cell_type": "code",
      "metadata": {
        "id": "3E25labSkacI",
        "colab_type": "code",
        "colab": {}
      },
      "source": [
        "for i in range(6000):\n",
        "  data.loc[i] = generate_random_records()"
      ],
      "execution_count": 19,
      "outputs": []
    },
    {
      "cell_type": "code",
      "metadata": {
        "id": "fu2Qfo_6kwBJ",
        "colab_type": "code",
        "colab": {
          "base_uri": "https://localhost:8080/",
          "height": 204
        },
        "outputId": "df018b23-9039-495f-daad-a5837f255897"
      },
      "source": [
        "data.head()"
      ],
      "execution_count": 20,
      "outputs": [
        {
          "output_type": "execute_result",
          "data": {
            "text/html": [
              "<div>\n",
              "<style scoped>\n",
              "    .dataframe tbody tr th:only-of-type {\n",
              "        vertical-align: middle;\n",
              "    }\n",
              "\n",
              "    .dataframe tbody tr th {\n",
              "        vertical-align: top;\n",
              "    }\n",
              "\n",
              "    .dataframe thead th {\n",
              "        text-align: right;\n",
              "    }\n",
              "</style>\n",
              "<table border=\"1\" class=\"dataframe\">\n",
              "  <thead>\n",
              "    <tr style=\"text-align: right;\">\n",
              "      <th></th>\n",
              "      <th>date</th>\n",
              "      <th>location</th>\n",
              "      <th>sales</th>\n",
              "    </tr>\n",
              "  </thead>\n",
              "  <tbody>\n",
              "    <tr>\n",
              "      <th>0</th>\n",
              "      <td>2020-04-07</td>\n",
              "      <td>Delhi</td>\n",
              "      <td>3147</td>\n",
              "    </tr>\n",
              "    <tr>\n",
              "      <th>1</th>\n",
              "      <td>2020-01-03</td>\n",
              "      <td>Kolkata</td>\n",
              "      <td>9791</td>\n",
              "    </tr>\n",
              "    <tr>\n",
              "      <th>2</th>\n",
              "      <td>2020-05-25</td>\n",
              "      <td>Kolkata</td>\n",
              "      <td>3021</td>\n",
              "    </tr>\n",
              "    <tr>\n",
              "      <th>3</th>\n",
              "      <td>2020-04-29</td>\n",
              "      <td>Delhi</td>\n",
              "      <td>6455</td>\n",
              "    </tr>\n",
              "    <tr>\n",
              "      <th>4</th>\n",
              "      <td>2020-03-15</td>\n",
              "      <td>Delhi</td>\n",
              "      <td>7793</td>\n",
              "    </tr>\n",
              "  </tbody>\n",
              "</table>\n",
              "</div>"
            ],
            "text/plain": [
              "         date location sales\n",
              "0  2020-04-07    Delhi  3147\n",
              "1  2020-01-03  Kolkata  9791\n",
              "2  2020-05-25  Kolkata  3021\n",
              "3  2020-04-29    Delhi  6455\n",
              "4  2020-03-15    Delhi  7793"
            ]
          },
          "metadata": {
            "tags": []
          },
          "execution_count": 20
        }
      ]
    },
    {
      "cell_type": "code",
      "metadata": {
        "id": "L06cz-aLk4nW",
        "colab_type": "code",
        "colab": {}
      },
      "source": [
        "data.to_csv('Sales.csv')"
      ],
      "execution_count": 21,
      "outputs": []
    },
    {
      "cell_type": "code",
      "metadata": {
        "id": "3Fbwrj-dlEXx",
        "colab_type": "code",
        "colab": {}
      },
      "source": [
        "from pyspark.sql import SparkSession\n",
        "\n",
        "spark = SparkSession.builder.appName(\"Spark Basic Operations\").getOrCreate()"
      ],
      "execution_count": 23,
      "outputs": []
    },
    {
      "cell_type": "code",
      "metadata": {
        "id": "ieQa4GfJlm7c",
        "colab_type": "code",
        "colab": {
          "base_uri": "https://localhost:8080/",
          "height": 216
        },
        "outputId": "5884b972-beac-40b5-84cb-937fae136087"
      },
      "source": [
        "spark"
      ],
      "execution_count": 12,
      "outputs": [
        {
          "output_type": "execute_result",
          "data": {
            "text/html": [
              "\n",
              "            <div>\n",
              "                <p><b>SparkSession - in-memory</b></p>\n",
              "                \n",
              "        <div>\n",
              "            <p><b>SparkContext</b></p>\n",
              "\n",
              "            <p><a href=\"http://51b84ff18e21:4040\">Spark UI</a></p>\n",
              "\n",
              "            <dl>\n",
              "              <dt>Version</dt>\n",
              "                <dd><code>v3.0.0</code></dd>\n",
              "              <dt>Master</dt>\n",
              "                <dd><code>local[*]</code></dd>\n",
              "              <dt>AppName</dt>\n",
              "                <dd><code>Spark Basic Operations</code></dd>\n",
              "            </dl>\n",
              "        </div>\n",
              "        \n",
              "            </div>\n",
              "        "
            ],
            "text/plain": [
              "<pyspark.sql.session.SparkSession at 0x7f825c44fc50>"
            ]
          },
          "metadata": {
            "tags": []
          },
          "execution_count": 12
        }
      ]
    },
    {
      "cell_type": "code",
      "metadata": {
        "id": "3nmU13CCndUQ",
        "colab_type": "code",
        "colab": {}
      },
      "source": [
        "from pyspark.sql import Row\n",
        "from pyspark.sql.types import StructField, StructType, StringType, LongType"
      ],
      "execution_count": 24,
      "outputs": []
    },
    {
      "cell_type": "code",
      "metadata": {
        "id": "Ylockvfjne5Z",
        "colab_type": "code",
        "colab": {}
      },
      "source": [
        "# DataFrame from csv\n",
        "df = spark.read.csv(\"Sales.csv\", inferSchema=True, header=True)"
      ],
      "execution_count": 26,
      "outputs": []
    },
    {
      "cell_type": "code",
      "metadata": {
        "id": "enTq4ZuDnlaX",
        "colab_type": "code",
        "colab": {
          "base_uri": "https://localhost:8080/",
          "height": 459
        },
        "outputId": "887e4546-3487-485f-cfaa-bf0350696d71"
      },
      "source": [
        "df.show()"
      ],
      "execution_count": 27,
      "outputs": [
        {
          "output_type": "stream",
          "text": [
            "+---+----------+--------+-----+\n",
            "|_c0|      date|location|sales|\n",
            "+---+----------+--------+-----+\n",
            "|  0|2020-04-07|   Delhi| 3147|\n",
            "|  1|2020-01-03| Kolkata| 9791|\n",
            "|  2|2020-05-25| Kolkata| 3021|\n",
            "|  3|2020-04-29|   Delhi| 6455|\n",
            "|  4|2020-03-15|   Delhi| 7793|\n",
            "|  5|2020-04-17| Kolkata| 6144|\n",
            "|  6|2020-02-26|   Delhi| 3499|\n",
            "|  7|2020-05-19|   Delhi| 8147|\n",
            "|  8|2020-04-01|  Mumbai| 6955|\n",
            "|  9|2020-05-15|Banglore| 5155|\n",
            "| 10|2020-01-09|Banglore| 8911|\n",
            "| 11|2020-05-09|  Mumbai| 9460|\n",
            "| 12|2020-05-07|  Mumbai| 5116|\n",
            "| 13|2020-04-29|  Mumbai| 2673|\n",
            "| 14|2020-05-26| Kolkata| 3134|\n",
            "| 15|2020-03-21|Banglore| 8718|\n",
            "| 16|2020-02-29|  Mumbai| 7084|\n",
            "| 17|2020-04-14| Kolkata| 3029|\n",
            "| 18|2020-02-24|  Mumbai| 6320|\n",
            "| 19|2020-02-13|   Delhi| 8881|\n",
            "+---+----------+--------+-----+\n",
            "only showing top 20 rows\n",
            "\n"
          ],
          "name": "stdout"
        }
      ]
    },
    {
      "cell_type": "code",
      "metadata": {
        "id": "LN0Eo26-nos0",
        "colab_type": "code",
        "colab": {
          "base_uri": "https://localhost:8080/",
          "height": 119
        },
        "outputId": "0ce58d09-1fb5-4ffc-ce77-518b0e7a5f5f"
      },
      "source": [
        "df.printSchema()"
      ],
      "execution_count": 28,
      "outputs": [
        {
          "output_type": "stream",
          "text": [
            "root\n",
            " |-- _c0: integer (nullable = true)\n",
            " |-- date: string (nullable = true)\n",
            " |-- location: string (nullable = true)\n",
            " |-- sales: integer (nullable = true)\n",
            "\n"
          ],
          "name": "stdout"
        }
      ]
    },
    {
      "cell_type": "code",
      "metadata": {
        "id": "7UHv6ScQntK7",
        "colab_type": "code",
        "colab": {}
      },
      "source": [
        "new_df = df.selectExpr(\"avg(sales)\")"
      ],
      "execution_count": 29,
      "outputs": []
    },
    {
      "cell_type": "code",
      "metadata": {
        "id": "mmdkDjWmoEbM",
        "colab_type": "code",
        "colab": {
          "base_uri": "https://localhost:8080/",
          "height": 119
        },
        "outputId": "3dd0c065-0d69-4211-f39d-9bd1a7a2e5bc"
      },
      "source": [
        "new_df.show()"
      ],
      "execution_count": 30,
      "outputs": [
        {
          "output_type": "stream",
          "text": [
            "+----------+\n",
            "|avg(sales)|\n",
            "+----------+\n",
            "|  5998.385|\n",
            "+----------+\n",
            "\n"
          ],
          "name": "stdout"
        }
      ]
    },
    {
      "cell_type": "code",
      "metadata": {
        "id": "E2waX51Ao-hK",
        "colab_type": "code",
        "colab": {
          "base_uri": "https://localhost:8080/",
          "height": 119
        },
        "outputId": "a1097f17-6ce8-4154-b532-e64afd57eed6"
      },
      "source": [
        "total_sales = df.selectExpr(\"sum(sales)\")\n",
        "total_sales.show()"
      ],
      "execution_count": 31,
      "outputs": [
        {
          "output_type": "stream",
          "text": [
            "+----------+\n",
            "|sum(sales)|\n",
            "+----------+\n",
            "|  35990310|\n",
            "+----------+\n",
            "\n"
          ],
          "name": "stdout"
        }
      ]
    },
    {
      "cell_type": "code",
      "metadata": {
        "id": "hsv-B4kQqxZP",
        "colab_type": "code",
        "colab": {}
      },
      "source": [
        "df = df.drop('_c0')"
      ],
      "execution_count": 34,
      "outputs": []
    },
    {
      "cell_type": "code",
      "metadata": {
        "id": "x0bCjnNIpFMu",
        "colab_type": "code",
        "colab": {
          "base_uri": "https://localhost:8080/",
          "height": 170
        },
        "outputId": "66f5c134-5555-4706-bd02-d09d474f8fbc"
      },
      "source": [
        "df.groupBy('location').sum().show()"
      ],
      "execution_count": 35,
      "outputs": [
        {
          "output_type": "stream",
          "text": [
            "+--------+----------+\n",
            "|location|sum(sales)|\n",
            "+--------+----------+\n",
            "|  Mumbai|   8662456|\n",
            "| Kolkata|   9019388|\n",
            "|   Delhi|   9194983|\n",
            "|Banglore|   9113483|\n",
            "+--------+----------+\n",
            "\n"
          ],
          "name": "stdout"
        }
      ]
    },
    {
      "cell_type": "code",
      "metadata": {
        "id": "rhUs0MBYpj_0",
        "colab_type": "code",
        "colab": {
          "base_uri": "https://localhost:8080/",
          "height": 459
        },
        "outputId": "512e4cfe-cd27-4753-dd92-a1272a98f45b"
      },
      "source": [
        "from pyspark.sql.functions import year,month\n",
        "from pyspark.sql.functions import to_date\n",
        "\n",
        "df1 = df.withColumn('Month',month(df.date))\n",
        "df1.show()"
      ],
      "execution_count": 40,
      "outputs": [
        {
          "output_type": "stream",
          "text": [
            "+----------+--------+-----+-----+\n",
            "|      date|location|sales|Month|\n",
            "+----------+--------+-----+-----+\n",
            "|2020-04-07|   Delhi| 3147|    4|\n",
            "|2020-01-03| Kolkata| 9791|    1|\n",
            "|2020-05-25| Kolkata| 3021|    5|\n",
            "|2020-04-29|   Delhi| 6455|    4|\n",
            "|2020-03-15|   Delhi| 7793|    3|\n",
            "|2020-04-17| Kolkata| 6144|    4|\n",
            "|2020-02-26|   Delhi| 3499|    2|\n",
            "|2020-05-19|   Delhi| 8147|    5|\n",
            "|2020-04-01|  Mumbai| 6955|    4|\n",
            "|2020-05-15|Banglore| 5155|    5|\n",
            "|2020-01-09|Banglore| 8911|    1|\n",
            "|2020-05-09|  Mumbai| 9460|    5|\n",
            "|2020-05-07|  Mumbai| 5116|    5|\n",
            "|2020-04-29|  Mumbai| 2673|    4|\n",
            "|2020-05-26| Kolkata| 3134|    5|\n",
            "|2020-03-21|Banglore| 8718|    3|\n",
            "|2020-02-29|  Mumbai| 7084|    2|\n",
            "|2020-04-14| Kolkata| 3029|    4|\n",
            "|2020-02-24|  Mumbai| 6320|    2|\n",
            "|2020-02-13|   Delhi| 8881|    2|\n",
            "+----------+--------+-----+-----+\n",
            "only showing top 20 rows\n",
            "\n"
          ],
          "name": "stdout"
        }
      ]
    },
    {
      "cell_type": "code",
      "metadata": {
        "id": "C1YA1hojrzcj",
        "colab_type": "code",
        "colab": {}
      },
      "source": [
        "#Sales by Month\n",
        "df2= df1.groupby('Month').sum()"
      ],
      "execution_count": 43,
      "outputs": []
    },
    {
      "cell_type": "code",
      "metadata": {
        "id": "03Rhv1_ktBMF",
        "colab_type": "code",
        "colab": {
          "base_uri": "https://localhost:8080/",
          "height": 34
        },
        "outputId": "b1857174-8dae-48fc-b048-b5330956ae2e"
      },
      "source": [
        "df2.columns"
      ],
      "execution_count": 44,
      "outputs": [
        {
          "output_type": "execute_result",
          "data": {
            "text/plain": [
              "['Month', 'sum(sales)', 'sum(Month)']"
            ]
          },
          "metadata": {
            "tags": []
          },
          "execution_count": 44
        }
      ]
    },
    {
      "cell_type": "code",
      "metadata": {
        "id": "dNvwYEkrts8e",
        "colab_type": "code",
        "colab": {
          "base_uri": "https://localhost:8080/",
          "height": 187
        },
        "outputId": "1e344735-ddde-4a96-fa85-cd63a86cfb22"
      },
      "source": [
        "#SALES ACCORDING TO MONTH\n",
        "df2.select(['Month','sum(sales)']).show()"
      ],
      "execution_count": 45,
      "outputs": [
        {
          "output_type": "stream",
          "text": [
            "+-----+----------+\n",
            "|Month|sum(sales)|\n",
            "+-----+----------+\n",
            "|    1|   7215318|\n",
            "|    3|   7320518|\n",
            "|    5|   7156229|\n",
            "|    4|   7175476|\n",
            "|    2|   7122769|\n",
            "+-----+----------+\n",
            "\n"
          ],
          "name": "stdout"
        }
      ]
    },
    {
      "cell_type": "code",
      "metadata": {
        "id": "zPRkqjJft57q",
        "colab_type": "code",
        "colab": {
          "base_uri": "https://localhost:8080/",
          "height": 442
        },
        "outputId": "2ac42fec-1098-4020-9335-02c644b74ef8"
      },
      "source": [
        "#SALES ACCORDING TO REGION AND MONTH\n",
        "df3 = df1.groupby(['Month','location']).sum().select(['Month','location','sum(sales)']).show()"
      ],
      "execution_count": 48,
      "outputs": [
        {
          "output_type": "stream",
          "text": [
            "+-----+--------+----------+\n",
            "|Month|location|sum(sales)|\n",
            "+-----+--------+----------+\n",
            "|    5|  Mumbai|   1665824|\n",
            "|    2|   Delhi|   1759888|\n",
            "|    2|  Mumbai|   1843644|\n",
            "|    3| Kolkata|   1786284|\n",
            "|    5|Banglore|   1767963|\n",
            "|    1|Banglore|   1840764|\n",
            "|    2|Banglore|   1789870|\n",
            "|    1|  Mumbai|   1736217|\n",
            "|    4|Banglore|   1865797|\n",
            "|    1| Kolkata|   1844824|\n",
            "|    3|Banglore|   1849089|\n",
            "|    4| Kolkata|   1882405|\n",
            "|    2| Kolkata|   1729367|\n",
            "|    1|   Delhi|   1793513|\n",
            "|    5|   Delhi|   1945934|\n",
            "|    3|  Mumbai|   1860438|\n",
            "|    4|   Delhi|   1870941|\n",
            "|    5| Kolkata|   1776508|\n",
            "|    3|   Delhi|   1824707|\n",
            "|    4|  Mumbai|   1556333|\n",
            "+-----+--------+----------+\n",
            "\n"
          ],
          "name": "stdout"
        }
      ]
    },
    {
      "cell_type": "code",
      "metadata": {
        "id": "hs7LUV-supS_",
        "colab_type": "code",
        "colab": {}
      },
      "source": [
        ""
      ],
      "execution_count": null,
      "outputs": []
    }
  ]
}